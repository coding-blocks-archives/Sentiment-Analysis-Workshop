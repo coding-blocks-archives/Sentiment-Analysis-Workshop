{
  "nbformat": 4,
  "nbformat_minor": 0,
  "metadata": {
    "colab": {
      "name": "Sentiment Analysis",
      "provenance": [],
      "collapsed_sections": []
    },
    "kernelspec": {
      "name": "python3",
      "display_name": "Python 3"
    }
  },
  "cells": [
    {
      "cell_type": "code",
      "metadata": {
        "id": "PcsrlKFRE_rX",
        "outputId": "026fa93a-667a-49ed-8026-6dc010291afe",
        "colab": {
          "base_uri": "https://localhost:8080/",
          "height": 377
        }
      },
      "source": [
        "!wget \"https://www.dropbox.com/s/c6lmwqz67kpdsiq/review_dataset.csv\""
      ],
      "execution_count": 1,
      "outputs": [
        {
          "output_type": "stream",
          "text": [
            "--2020-10-10 16:14:24--  https://www.dropbox.com/s/c6lmwqz67kpdsiq/review_dataset.csv\n",
            "Resolving www.dropbox.com (www.dropbox.com)... 162.125.1.1, 2620:100:6016:1::a27d:101\n",
            "Connecting to www.dropbox.com (www.dropbox.com)|162.125.1.1|:443... connected.\n",
            "HTTP request sent, awaiting response... 301 Moved Permanently\n",
            "Location: /s/raw/c6lmwqz67kpdsiq/review_dataset.csv [following]\n",
            "--2020-10-10 16:14:24--  https://www.dropbox.com/s/raw/c6lmwqz67kpdsiq/review_dataset.csv\n",
            "Reusing existing connection to www.dropbox.com:443.\n",
            "HTTP request sent, awaiting response... 302 Found\n",
            "Location: https://ucc285f0d30df203ffe0acf0205b.dl.dropboxusercontent.com/cd/0/inline/BBDeQo7IiNF5iRgja-xUsNDzhWiGmvaWGcxwmO4g6i504fGwPnoA0XRTLNVffxoGrWA_EtytiANtRsPnhbc_a2J2WRBm3y7QCj7CX-wTw-h-CZDesEgxEGfoHSyZFa0pS1I/file# [following]\n",
            "--2020-10-10 16:14:25--  https://ucc285f0d30df203ffe0acf0205b.dl.dropboxusercontent.com/cd/0/inline/BBDeQo7IiNF5iRgja-xUsNDzhWiGmvaWGcxwmO4g6i504fGwPnoA0XRTLNVffxoGrWA_EtytiANtRsPnhbc_a2J2WRBm3y7QCj7CX-wTw-h-CZDesEgxEGfoHSyZFa0pS1I/file\n",
            "Resolving ucc285f0d30df203ffe0acf0205b.dl.dropboxusercontent.com (ucc285f0d30df203ffe0acf0205b.dl.dropboxusercontent.com)... 162.125.1.15, 2620:100:6016:15::a27d:10f\n",
            "Connecting to ucc285f0d30df203ffe0acf0205b.dl.dropboxusercontent.com (ucc285f0d30df203ffe0acf0205b.dl.dropboxusercontent.com)|162.125.1.15|:443... connected.\n",
            "HTTP request sent, awaiting response... 200 OK\n",
            "Length: 26332150 (25M) [text/plain]\n",
            "Saving to: ‘review_dataset.csv.1’\n",
            "\n",
            "review_dataset.csv. 100%[===================>]  25.11M  69.0MB/s    in 0.4s    \n",
            "\n",
            "2020-10-10 16:14:25 (69.0 MB/s) - ‘review_dataset.csv.1’ saved [26332150/26332150]\n",
            "\n"
          ],
          "name": "stdout"
        }
      ]
    },
    {
      "cell_type": "code",
      "metadata": {
        "id": "Z5px3nBeG_md"
      },
      "source": [
        "import pandas as pd\n",
        "import numpy as np"
      ],
      "execution_count": 2,
      "outputs": []
    },
    {
      "cell_type": "code",
      "metadata": {
        "id": "u_kdvqvqHgJv"
      },
      "source": [
        "df = pd.read_csv(\"review_dataset.csv\")"
      ],
      "execution_count": 3,
      "outputs": []
    },
    {
      "cell_type": "code",
      "metadata": {
        "id": "IckgYnhNH-YC",
        "outputId": "37e6c08a-49ee-4234-ddc8-ca80ef746278",
        "colab": {
          "base_uri": "https://localhost:8080/",
          "height": 419
        }
      },
      "source": [
        "df"
      ],
      "execution_count": 4,
      "outputs": [
        {
          "output_type": "execute_result",
          "data": {
            "text/html": [
              "<div>\n",
              "<style scoped>\n",
              "    .dataframe tbody tr th:only-of-type {\n",
              "        vertical-align: middle;\n",
              "    }\n",
              "\n",
              "    .dataframe tbody tr th {\n",
              "        vertical-align: top;\n",
              "    }\n",
              "\n",
              "    .dataframe thead th {\n",
              "        text-align: right;\n",
              "    }\n",
              "</style>\n",
              "<table border=\"1\" class=\"dataframe\">\n",
              "  <thead>\n",
              "    <tr style=\"text-align: right;\">\n",
              "      <th></th>\n",
              "      <th>review</th>\n",
              "      <th>label</th>\n",
              "    </tr>\n",
              "  </thead>\n",
              "  <tbody>\n",
              "    <tr>\n",
              "      <th>0</th>\n",
              "      <td>The Buddy Holly Story opens on a shot of a yel...</td>\n",
              "      <td>pos</td>\n",
              "    </tr>\n",
              "    <tr>\n",
              "      <th>1</th>\n",
              "      <td>***SPOILERS*** Like some evil Tinkers-to-Evers...</td>\n",
              "      <td>neg</td>\n",
              "    </tr>\n",
              "    <tr>\n",
              "      <th>2</th>\n",
              "      <td>Ghost of Dragstrip Hollow is a typical 1950's ...</td>\n",
              "      <td>neg</td>\n",
              "    </tr>\n",
              "    <tr>\n",
              "      <th>3</th>\n",
              "      <td>Whatever you do, don't stop watching when you ...</td>\n",
              "      <td>pos</td>\n",
              "    </tr>\n",
              "    <tr>\n",
              "      <th>4</th>\n",
              "      <td>This is one of those movies you think that the...</td>\n",
              "      <td>neg</td>\n",
              "    </tr>\n",
              "    <tr>\n",
              "      <th>...</th>\n",
              "      <td>...</td>\n",
              "      <td>...</td>\n",
              "    </tr>\n",
              "    <tr>\n",
              "      <th>19995</th>\n",
              "      <td>O boy, was this really bad.&lt;br /&gt;&lt;br /&gt;I saw t...</td>\n",
              "      <td>neg</td>\n",
              "    </tr>\n",
              "    <tr>\n",
              "      <th>19996</th>\n",
              "      <td>Larry Fessenden has been thrashed by most of t...</td>\n",
              "      <td>pos</td>\n",
              "    </tr>\n",
              "    <tr>\n",
              "      <th>19997</th>\n",
              "      <td>This may or may not be the worst movie that St...</td>\n",
              "      <td>neg</td>\n",
              "    </tr>\n",
              "    <tr>\n",
              "      <th>19998</th>\n",
              "      <td>I have no idea what these people were thinking...</td>\n",
              "      <td>neg</td>\n",
              "    </tr>\n",
              "    <tr>\n",
              "      <th>19999</th>\n",
              "      <td>\"The Groove Tube\" was initially shown on video...</td>\n",
              "      <td>pos</td>\n",
              "    </tr>\n",
              "  </tbody>\n",
              "</table>\n",
              "<p>20000 rows × 2 columns</p>\n",
              "</div>"
            ],
            "text/plain": [
              "                                                  review label\n",
              "0      The Buddy Holly Story opens on a shot of a yel...   pos\n",
              "1      ***SPOILERS*** Like some evil Tinkers-to-Evers...   neg\n",
              "2      Ghost of Dragstrip Hollow is a typical 1950's ...   neg\n",
              "3      Whatever you do, don't stop watching when you ...   pos\n",
              "4      This is one of those movies you think that the...   neg\n",
              "...                                                  ...   ...\n",
              "19995  O boy, was this really bad.<br /><br />I saw t...   neg\n",
              "19996  Larry Fessenden has been thrashed by most of t...   pos\n",
              "19997  This may or may not be the worst movie that St...   neg\n",
              "19998  I have no idea what these people were thinking...   neg\n",
              "19999  \"The Groove Tube\" was initially shown on video...   pos\n",
              "\n",
              "[20000 rows x 2 columns]"
            ]
          },
          "metadata": {
            "tags": []
          },
          "execution_count": 4
        }
      ]
    },
    {
      "cell_type": "code",
      "metadata": {
        "id": "H7IcIjsNIZCX",
        "outputId": "899b22a7-cb1a-4805-a1b4-650418253326",
        "colab": {
          "base_uri": "https://localhost:8080/",
          "height": 34
        }
      },
      "source": [
        "df.shape"
      ],
      "execution_count": 5,
      "outputs": [
        {
          "output_type": "execute_result",
          "data": {
            "text/plain": [
              "(20000, 2)"
            ]
          },
          "metadata": {
            "tags": []
          },
          "execution_count": 5
        }
      ]
    },
    {
      "cell_type": "code",
      "metadata": {
        "id": "IsvcZ9HLI26G",
        "outputId": "cb5d7877-2692-4e5b-eb81-b74b43620fc5",
        "colab": {
          "base_uri": "https://localhost:8080/",
          "height": 221
        }
      },
      "source": [
        "df['label']"
      ],
      "execution_count": 6,
      "outputs": [
        {
          "output_type": "execute_result",
          "data": {
            "text/plain": [
              "0        pos\n",
              "1        neg\n",
              "2        neg\n",
              "3        pos\n",
              "4        neg\n",
              "        ... \n",
              "19995    neg\n",
              "19996    pos\n",
              "19997    neg\n",
              "19998    neg\n",
              "19999    pos\n",
              "Name: label, Length: 20000, dtype: object"
            ]
          },
          "metadata": {
            "tags": []
          },
          "execution_count": 6
        }
      ]
    },
    {
      "cell_type": "code",
      "metadata": {
        "id": "J2Y7NmWDI-le",
        "outputId": "8d436372-f0e1-4d13-a00c-aa1c222fa40c",
        "colab": {
          "base_uri": "https://localhost:8080/",
          "height": 137
        }
      },
      "source": [
        "df['review'][1]"
      ],
      "execution_count": 7,
      "outputs": [
        {
          "output_type": "execute_result",
          "data": {
            "application/vnd.google.colaboratory.intrinsic+json": {
              "type": "string"
            },
            "text/plain": [
              "'***SPOILERS*** Like some evil Tinkers-to-Evers-to-Chance double-play combination we have in \"Omen IV\" the evil seed of the deceased AntiChrist Damien Thorn come back. Terrorizing his parents his schoolmates his neighbors and finally the entire world as a she named Delia York, Asia Vieila. After being given to a \"deserving\" couple the Yorks Karen & Gene, Fay Grant & Michael Woods,by the Catholic Church\\'s St. Francis orphanage.<br /><br />Little Delia didn\\'t waste any time making her peasants felt by scratching her mom at a house party. Later Delia almost get killed by a runaway truck only to have herself saved by this \"Devil Dog\" named Ryder. Going to school Delia takes care of the local bully by getting the big guy to wet himself in front of all his classmates. Later when his father threatens the Yorks with a law suit she has his head sliced off in a self-induced traffic accident! Delia is someone that you never mess with if you know what\\'s good for you.<br /><br />Meanwhile Dalia\\'s dad Gene becomes a big man in town on his own, or so he thinks, by getting elected to the congress as a champion of the clean air and green trees crowd instead of letting the smog and concrete boys take over the neighborhood with his eye now on he White House itself! Did his bratty and strange daughter Delia have anything to do with Gene York\\'s sudden good fortune?<br /><br />It\\'s only later when Jo, Ann Hearen, is hired as Delia\\'s nanny that the truth\\'s comes out about her strange and evil powers. Jo a New Age type realizes that Delia is a bit weird, after turning all her white crystals black, and calls her New Age Guru Noah, Jim Byrnes, to come over and check her out. Noah is so upset by what he sees in Delia Kirilian color vibrations ,all black and blue with a little pinch of red, that it flips him out so bad that he almost crashed into Delia\\'s moms car.<br /><br />Taken on a trip to a psychic festival by Jo Delia turns the entire event into an inferno setting the place, through mental telepathy, on fire and heaving everyone there run for cover including poor Noah who was at the festival and ended up with his leg broken. The and shaken and battered Guru was so shook up by the whole experience that he later checked out of the country to become a hermit in the Tibetan wilderness. <br /><br />Jo herself is later thrown out, with the help of the sweet and cuddly family pet Ryder, of a second floor window to her death because she knew and talked too much. It\\'s when Karen is again pregnant that she decides, finally, to find out the truth about the real parents of Delia. That\\'s when she,and we in the audience, come face to face with the truth. She\\'s not only the feared AntiChrist of Revelations she\\'s his twin sister! Her brother the AntiChrist himself is about to come on the scene as her kid brother the sill unborn Alexander York!<br /><br />Three times were more then enough for the AntiChrist coming back to earth to bring about Armageddon. The movie going public were already getting a little tired of of him and his evil adventures. With a fourth really not necessary since Daimen Thorn, the original AntiChrist, had been dead and buried for years. Were put through the usual ringer with no one believing that little Delia is \"Thee\" AntiChrist until it was almost too late to stop her in her deadly rounds of destroying the entire human race. The movie as bad as it is is also far too long, 97 minutes, for a horror flick that could well have told it\\'s story is as little as 80 minutes.<br /><br />Having a private eye Earl Knight, Mchael Learner,and later a former Catholic nun sister Yvonne,Megan Lehch,and now faith healer Felichy in the film only to be killed off didn\\'t help the plot either. It only prolonged the suffering of those of us watching the movie. You could see the surprise ending coming almost as soon as the film \"Omen IV\" began with the bases being cleared for Delia\\'s eventual takeover of the civilized as well as uncivilized world. What was a bit of a surprise was Delia doing it with a little help from friends.'"
            ]
          },
          "metadata": {
            "tags": []
          },
          "execution_count": 7
        }
      ]
    },
    {
      "cell_type": "code",
      "metadata": {
        "id": "FvbR7A54JKpQ",
        "outputId": "83530673-3aec-4b74-86fd-1a14ecb45810",
        "colab": {
          "base_uri": "https://localhost:8080/",
          "height": 88
        }
      },
      "source": [
        "# re -> regular expressions\n",
        "import re\n",
        "import nltk\n",
        "from nltk.corpus import stopwords\n",
        "\n",
        "nltk.download('stopwords')\n",
        "\n",
        "sw = stopwords.words('english')\n",
        "print(sw)"
      ],
      "execution_count": 8,
      "outputs": [
        {
          "output_type": "stream",
          "text": [
            "[nltk_data] Downloading package stopwords to /root/nltk_data...\n",
            "[nltk_data]   Package stopwords is already up-to-date!\n",
            "['i', 'me', 'my', 'myself', 'we', 'our', 'ours', 'ourselves', 'you', \"you're\", \"you've\", \"you'll\", \"you'd\", 'your', 'yours', 'yourself', 'yourselves', 'he', 'him', 'his', 'himself', 'she', \"she's\", 'her', 'hers', 'herself', 'it', \"it's\", 'its', 'itself', 'they', 'them', 'their', 'theirs', 'themselves', 'what', 'which', 'who', 'whom', 'this', 'that', \"that'll\", 'these', 'those', 'am', 'is', 'are', 'was', 'were', 'be', 'been', 'being', 'have', 'has', 'had', 'having', 'do', 'does', 'did', 'doing', 'a', 'an', 'the', 'and', 'but', 'if', 'or', 'because', 'as', 'until', 'while', 'of', 'at', 'by', 'for', 'with', 'about', 'against', 'between', 'into', 'through', 'during', 'before', 'after', 'above', 'below', 'to', 'from', 'up', 'down', 'in', 'out', 'on', 'off', 'over', 'under', 'again', 'further', 'then', 'once', 'here', 'there', 'when', 'where', 'why', 'how', 'all', 'any', 'both', 'each', 'few', 'more', 'most', 'other', 'some', 'such', 'no', 'nor', 'not', 'only', 'own', 'same', 'so', 'than', 'too', 'very', 's', 't', 'can', 'will', 'just', 'don', \"don't\", 'should', \"should've\", 'now', 'd', 'll', 'm', 'o', 're', 've', 'y', 'ain', 'aren', \"aren't\", 'couldn', \"couldn't\", 'didn', \"didn't\", 'doesn', \"doesn't\", 'hadn', \"hadn't\", 'hasn', \"hasn't\", 'haven', \"haven't\", 'isn', \"isn't\", 'ma', 'mightn', \"mightn't\", 'mustn', \"mustn't\", 'needn', \"needn't\", 'shan', \"shan't\", 'shouldn', \"shouldn't\", 'wasn', \"wasn't\", 'weren', \"weren't\", 'won', \"won't\", 'wouldn', \"wouldn't\"]\n"
          ],
          "name": "stdout"
        }
      ]
    },
    {
      "cell_type": "code",
      "metadata": {
        "id": "NjhDNdBFMewg",
        "outputId": "9ecea992-5f96-4d10-e19c-5dd263655c0c",
        "colab": {
          "base_uri": "https://localhost:8080/",
          "height": 34
        }
      },
      "source": [
        "len(sw)"
      ],
      "execution_count": 9,
      "outputs": [
        {
          "output_type": "execute_result",
          "data": {
            "text/plain": [
              "179"
            ]
          },
          "metadata": {
            "tags": []
          },
          "execution_count": 9
        }
      ]
    },
    {
      "cell_type": "code",
      "metadata": {
        "id": "COEqR7FyLePS"
      },
      "source": [
        "#  cleaning of your data\n",
        "\n",
        "def clean_text(sample):\n",
        "  sample = sample.lower()\n",
        "  sample = sample.replace(\"<br /><br />\", \"\")\n",
        "  sample = re.sub(\"[^a-z]+\", \" \", sample)\n",
        "  sample = sample.split(\" \")\n",
        "  \n",
        "  sample = [word for word in sample if word not in sw ] # list comprehension\n",
        "\n",
        "  sample = \" \".join(sample)\n",
        "\n",
        "  return sample"
      ],
      "execution_count": 10,
      "outputs": []
    },
    {
      "cell_type": "code",
      "metadata": {
        "id": "V6k0v692McXL",
        "outputId": "b4b50d1c-0688-4760-eb79-1fd0fb21caea",
        "colab": {
          "base_uri": "https://localhost:8080/",
          "height": 137
        }
      },
      "source": [
        "clean_text(df['review'][1])"
      ],
      "execution_count": 11,
      "outputs": [
        {
          "output_type": "execute_result",
          "data": {
            "application/vnd.google.colaboratory.intrinsic+json": {
              "type": "string"
            },
            "text/plain": [
              "' spoilers like evil tinkers evers chance double play combination omen iv evil seed deceased antichrist damien thorn come back terrorizing parents schoolmates neighbors finally entire world named delia york asia vieila given deserving couple yorks karen gene fay grant michael woods catholic church st francis orphanage little delia waste time making peasants felt scratching mom house party later delia almost get killed runaway truck saved devil dog named ryder going school delia takes care local bully getting big guy wet front classmates later father threatens yorks law suit head sliced self induced traffic accident delia someone never mess know good meanwhile dalia dad gene becomes big man town thinks getting elected congress champion clean air green trees crowd instead letting smog concrete boys take neighborhood eye white house bratty strange daughter delia anything gene york sudden good fortune later jo ann hearen hired delia nanny truth comes strange evil powers jo new age type realizes delia bit weird turning white crystals black calls new age guru noah jim byrnes come check noah upset sees delia kirilian color vibrations black blue little pinch red flips bad almost crashed delia moms car taken trip psychic festival jo delia turns entire event inferno setting place mental telepathy fire heaving everyone run cover including poor noah festival ended leg broken shaken battered guru shook whole experience later checked country become hermit tibetan wilderness jo later thrown help sweet cuddly family pet ryder second floor window death knew talked much karen pregnant decides finally find truth real parents delia audience come face face truth feared antichrist revelations twin sister brother antichrist come scene kid brother sill unborn alexander york three times enough antichrist coming back earth bring armageddon movie going public already getting little tired evil adventures fourth really necessary since daimen thorn original antichrist dead buried years put usual ringer one believing little delia thee antichrist almost late stop deadly rounds destroying entire human race movie bad also far long minutes horror flick could well told story little minutes private eye earl knight mchael learner later former catholic nun sister yvonne megan lehch faith healer felichy film killed help plot either prolonged suffering us watching movie could see surprise ending coming almost soon film omen iv began bases cleared delia eventual takeover civilized well uncivilized world bit surprise delia little help friends '"
            ]
          },
          "metadata": {
            "tags": []
          },
          "execution_count": 11
        }
      ]
    },
    {
      "cell_type": "code",
      "metadata": {
        "id": "886Q45JrMqg7"
      },
      "source": [
        "df['review'] = df['review'].apply(clean_text)"
      ],
      "execution_count": 12,
      "outputs": []
    },
    {
      "cell_type": "code",
      "metadata": {
        "id": "DNpE4oFEPAW2"
      },
      "source": [
        ""
      ],
      "execution_count": 12,
      "outputs": []
    },
    {
      "cell_type": "code",
      "metadata": {
        "id": "8gN8k1qXPeG7",
        "outputId": "30362d52-3abf-45b7-8ce4-8ab8d9baa12e",
        "colab": {
          "base_uri": "https://localhost:8080/",
          "height": 419
        }
      },
      "source": [
        "df"
      ],
      "execution_count": 13,
      "outputs": [
        {
          "output_type": "execute_result",
          "data": {
            "text/html": [
              "<div>\n",
              "<style scoped>\n",
              "    .dataframe tbody tr th:only-of-type {\n",
              "        vertical-align: middle;\n",
              "    }\n",
              "\n",
              "    .dataframe tbody tr th {\n",
              "        vertical-align: top;\n",
              "    }\n",
              "\n",
              "    .dataframe thead th {\n",
              "        text-align: right;\n",
              "    }\n",
              "</style>\n",
              "<table border=\"1\" class=\"dataframe\">\n",
              "  <thead>\n",
              "    <tr style=\"text-align: right;\">\n",
              "      <th></th>\n",
              "      <th>review</th>\n",
              "      <th>label</th>\n",
              "    </tr>\n",
              "  </thead>\n",
              "  <tbody>\n",
              "    <tr>\n",
              "      <th>0</th>\n",
              "      <td>buddy holly story opens shot yellow neon moon ...</td>\n",
              "      <td>pos</td>\n",
              "    </tr>\n",
              "    <tr>\n",
              "      <th>1</th>\n",
              "      <td>spoilers like evil tinkers evers chance doubl...</td>\n",
              "      <td>neg</td>\n",
              "    </tr>\n",
              "    <tr>\n",
              "      <th>2</th>\n",
              "      <td>ghost dragstrip hollow typical teens turmoil m...</td>\n",
              "      <td>neg</td>\n",
              "    </tr>\n",
              "    <tr>\n",
              "      <th>3</th>\n",
              "      <td>whatever stop watching think movie hang around...</td>\n",
              "      <td>pos</td>\n",
              "    </tr>\n",
              "    <tr>\n",
              "      <th>4</th>\n",
              "      <td>one movies think makers would refuse release t...</td>\n",
              "      <td>neg</td>\n",
              "    </tr>\n",
              "    <tr>\n",
              "      <th>...</th>\n",
              "      <td>...</td>\n",
              "      <td>...</td>\n",
              "    </tr>\n",
              "    <tr>\n",
              "      <th>19995</th>\n",
              "      <td>boy really bad saw videotape scenes soundtrack...</td>\n",
              "      <td>neg</td>\n",
              "    </tr>\n",
              "    <tr>\n",
              "      <th>19996</th>\n",
              "      <td>larry fessenden thrashed comments forum well w...</td>\n",
              "      <td>pos</td>\n",
              "    </tr>\n",
              "    <tr>\n",
              "      <th>19997</th>\n",
              "      <td>may may worst movie steve martin ever made cer...</td>\n",
              "      <td>neg</td>\n",
              "    </tr>\n",
              "    <tr>\n",
              "      <th>19998</th>\n",
              "      <td>idea people thinking made film plot limited ac...</td>\n",
              "      <td>neg</td>\n",
              "    </tr>\n",
              "    <tr>\n",
              "      <th>19999</th>\n",
              "      <td>groove tube initially shown video first video...</td>\n",
              "      <td>pos</td>\n",
              "    </tr>\n",
              "  </tbody>\n",
              "</table>\n",
              "<p>20000 rows × 2 columns</p>\n",
              "</div>"
            ],
            "text/plain": [
              "                                                  review label\n",
              "0      buddy holly story opens shot yellow neon moon ...   pos\n",
              "1       spoilers like evil tinkers evers chance doubl...   neg\n",
              "2      ghost dragstrip hollow typical teens turmoil m...   neg\n",
              "3      whatever stop watching think movie hang around...   pos\n",
              "4      one movies think makers would refuse release t...   neg\n",
              "...                                                  ...   ...\n",
              "19995  boy really bad saw videotape scenes soundtrack...   neg\n",
              "19996  larry fessenden thrashed comments forum well w...   pos\n",
              "19997  may may worst movie steve martin ever made cer...   neg\n",
              "19998  idea people thinking made film plot limited ac...   neg\n",
              "19999   groove tube initially shown video first video...   pos\n",
              "\n",
              "[20000 rows x 2 columns]"
            ]
          },
          "metadata": {
            "tags": []
          },
          "execution_count": 13
        }
      ]
    },
    {
      "cell_type": "code",
      "metadata": {
        "id": "8dFqTFifPn97"
      },
      "source": [
        "# X -> input\n",
        "# y -> output\n",
        "X = df['review'].values\n",
        "y = df['label'].values"
      ],
      "execution_count": 14,
      "outputs": []
    },
    {
      "cell_type": "code",
      "metadata": {
        "id": "Cvmq02OiQDJ4"
      },
      "source": [
        "X_train = X[0:15000]\n",
        "X_test = X[15000:20000]\n",
        "\n",
        "y_train = y[0:15000]\n",
        "y_test = y[15000:20000]"
      ],
      "execution_count": 15,
      "outputs": []
    },
    {
      "cell_type": "code",
      "metadata": {
        "id": "UrSK1BYtQU7e",
        "outputId": "35c58f55-4e4a-4c0a-da15-23a20a099bfc",
        "colab": {
          "base_uri": "https://localhost:8080/",
          "height": 34
        }
      },
      "source": [
        "# another library for converting pos/neg to 1/0\n",
        "from sklearn.preprocessing import LabelEncoder\n",
        "\n",
        "le = LabelEncoder()\n",
        "\n",
        "# learning the mapping pos :1 , neg :0\n",
        "le.fit(y_train)"
      ],
      "execution_count": 16,
      "outputs": [
        {
          "output_type": "execute_result",
          "data": {
            "text/plain": [
              "LabelEncoder()"
            ]
          },
          "metadata": {
            "tags": []
          },
          "execution_count": 16
        }
      ]
    },
    {
      "cell_type": "code",
      "metadata": {
        "id": "cpkSb8L3QjQS"
      },
      "source": [
        "y_train = le.transform(y_train)\n",
        "y_test = le.transform(y_test)"
      ],
      "execution_count": 17,
      "outputs": []
    },
    {
      "cell_type": "code",
      "metadata": {
        "id": "nbz5rHS8Q8oM"
      },
      "source": [
        ""
      ],
      "execution_count": 17,
      "outputs": []
    },
    {
      "cell_type": "code",
      "metadata": {
        "id": "R2xO5kKHRWeH"
      },
      "source": [
        "# Bag of Word Model\n",
        "# it convert sentences into numbers\n",
        "\n",
        "from sklearn.feature_extraction.text import CountVectorizer\n",
        "\n",
        "cv = CountVectorizer(max_features = 10000)"
      ],
      "execution_count": 18,
      "outputs": []
    },
    {
      "cell_type": "code",
      "metadata": {
        "id": "JQgt6NCVRf_x",
        "outputId": "084d1db0-eff9-41e1-ede9-d95ae84cf733",
        "colab": {
          "base_uri": "https://localhost:8080/",
          "height": 119
        }
      },
      "source": [
        "cv.fit(X_train)"
      ],
      "execution_count": 19,
      "outputs": [
        {
          "output_type": "execute_result",
          "data": {
            "text/plain": [
              "CountVectorizer(analyzer='word', binary=False, decode_error='strict',\n",
              "                dtype=<class 'numpy.int64'>, encoding='utf-8', input='content',\n",
              "                lowercase=True, max_df=1.0, max_features=10000, min_df=1,\n",
              "                ngram_range=(1, 1), preprocessor=None, stop_words=None,\n",
              "                strip_accents=None, token_pattern='(?u)\\\\b\\\\w\\\\w+\\\\b',\n",
              "                tokenizer=None, vocabulary=None)"
            ]
          },
          "metadata": {
            "tags": []
          },
          "execution_count": 19
        }
      ]
    },
    {
      "cell_type": "code",
      "metadata": {
        "id": "0iLLuS2tSFsT"
      },
      "source": [
        "X_train = cv.transform(X_train).toarray()"
      ],
      "execution_count": 20,
      "outputs": []
    },
    {
      "cell_type": "code",
      "metadata": {
        "id": "zFjCLAOVSKfY",
        "outputId": "90abe007-cef9-43dd-fda3-00f3fcf63476",
        "colab": {
          "base_uri": "https://localhost:8080/",
          "height": 34
        }
      },
      "source": [
        "X_train.shape"
      ],
      "execution_count": 21,
      "outputs": [
        {
          "output_type": "execute_result",
          "data": {
            "text/plain": [
              "(15000, 10000)"
            ]
          },
          "metadata": {
            "tags": []
          },
          "execution_count": 21
        }
      ]
    },
    {
      "cell_type": "code",
      "metadata": {
        "id": "Fc8CWZfsS6DZ"
      },
      "source": [
        "X_test = cv.transform(X_test).toarray()"
      ],
      "execution_count": 22,
      "outputs": []
    },
    {
      "cell_type": "code",
      "metadata": {
        "id": "HLtHY7M6TAg_",
        "outputId": "ee147041-d887-4cc5-b4c1-b1567aae9caf",
        "colab": {
          "base_uri": "https://localhost:8080/",
          "height": 34
        }
      },
      "source": [
        "X_test.shape"
      ],
      "execution_count": 23,
      "outputs": [
        {
          "output_type": "execute_result",
          "data": {
            "text/plain": [
              "(5000, 10000)"
            ]
          },
          "metadata": {
            "tags": []
          },
          "execution_count": 23
        }
      ]
    },
    {
      "cell_type": "code",
      "metadata": {
        "id": "SCItq3UsTC0g"
      },
      "source": [
        ""
      ],
      "execution_count": null,
      "outputs": []
    },
    {
      "cell_type": "markdown",
      "metadata": {
        "id": "VWl4xrHiTIQV"
      },
      "source": [
        "# Model Training"
      ]
    },
    {
      "cell_type": "code",
      "metadata": {
        "id": "JaPcV2YTTJ0_"
      },
      "source": [
        "from sklearn.naive_bayes import MultinomialNB\n",
        "\n",
        "mnb = MultinomialNB()"
      ],
      "execution_count": 24,
      "outputs": []
    },
    {
      "cell_type": "code",
      "metadata": {
        "id": "66ahlyfvTcEA",
        "outputId": "22d4c587-1cb7-4bc6-dfee-2acfc73c354c",
        "colab": {
          "base_uri": "https://localhost:8080/",
          "height": 34
        }
      },
      "source": [
        "# training part\n",
        "mnb.fit(X_train, y_train)"
      ],
      "execution_count": 25,
      "outputs": [
        {
          "output_type": "execute_result",
          "data": {
            "text/plain": [
              "MultinomialNB(alpha=1.0, class_prior=None, fit_prior=True)"
            ]
          },
          "metadata": {
            "tags": []
          },
          "execution_count": 25
        }
      ]
    },
    {
      "cell_type": "code",
      "metadata": {
        "id": "ct8KH2lQTh47",
        "outputId": "99d0fa86-8068-4b96-90fb-22b412c1c3a2",
        "colab": {
          "base_uri": "https://localhost:8080/",
          "height": 34
        }
      },
      "source": [
        "mnb.predict(X_test)"
      ],
      "execution_count": 26,
      "outputs": [
        {
          "output_type": "execute_result",
          "data": {
            "text/plain": [
              "array([0, 0, 1, ..., 0, 0, 0])"
            ]
          },
          "metadata": {
            "tags": []
          },
          "execution_count": 26
        }
      ]
    },
    {
      "cell_type": "code",
      "metadata": {
        "id": "yGhtKmYtTwF1",
        "outputId": "c9cd8142-5df3-44c7-f240-030b11d242b7",
        "colab": {
          "base_uri": "https://localhost:8080/",
          "height": 34
        }
      },
      "source": [
        "mnb.score(X_test, y_test)"
      ],
      "execution_count": 27,
      "outputs": [
        {
          "output_type": "execute_result",
          "data": {
            "text/plain": [
              "0.8416"
            ]
          },
          "metadata": {
            "tags": []
          },
          "execution_count": 27
        }
      ]
    },
    {
      "cell_type": "markdown",
      "metadata": {
        "id": "iFcmtF19UGgl"
      },
      "source": [
        "# Predict for One sentence"
      ]
    },
    {
      "cell_type": "code",
      "metadata": {
        "id": "OXEkGm1WUEeF"
      },
      "source": [
        "my_review = \"movie was great. I enjoyed watching.. pleased.. great experience, wonderful\""
      ],
      "execution_count": 28,
      "outputs": []
    },
    {
      "cell_type": "code",
      "metadata": {
        "id": "YzVl7BdlT8fV"
      },
      "source": [
        "my_review = clean_text(my_review)"
      ],
      "execution_count": 30,
      "outputs": []
    },
    {
      "cell_type": "code",
      "metadata": {
        "id": "PCRpZGkZUca4"
      },
      "source": [
        "my_review = cv.transform([my_review])"
      ],
      "execution_count": 32,
      "outputs": []
    },
    {
      "cell_type": "code",
      "metadata": {
        "id": "d8HvHdnhUihC",
        "outputId": "5641342a-5901-4db2-9971-8df58256c61f",
        "colab": {
          "base_uri": "https://localhost:8080/",
          "height": 34
        }
      },
      "source": [
        "mnb.predict(my_review)"
      ],
      "execution_count": 33,
      "outputs": [
        {
          "output_type": "execute_result",
          "data": {
            "text/plain": [
              "array([1])"
            ]
          },
          "metadata": {
            "tags": []
          },
          "execution_count": 33
        }
      ]
    },
    {
      "cell_type": "code",
      "metadata": {
        "id": "OiKoxMtIUuGg"
      },
      "source": [
        ""
      ],
      "execution_count": null,
      "outputs": []
    }
  ]
}